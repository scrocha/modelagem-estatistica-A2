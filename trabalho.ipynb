{
 "cells": [
  {
   "cell_type": "markdown",
   "id": "c9545251",
   "metadata": {},
   "source": [
    "# Trabalho de Sobredispersão em Modelos de Contagem\n",
    "1. Análise exploratória dos dados\n",
    "2. Ajuste do modelo de Poisson\n",
    "3. Teste de sobredispersão\n",
    "4. Ajuste do modelo binomial negativo\n",
    "5. Análise de excesso de zeros e comparação de modelos"
   ]
  },
  {
   "cell_type": "markdown",
   "id": "ed38310a",
   "metadata": {},
   "source": [
    "# RecreationDemand\n",
    "\n",
    "## Descrição Geral\n",
    "\n",
    "O conjunto de dados `RecreationDemand` contém informações coletadas em 1980 por meio de uma pesquisa com 2.000 proprietários de barcos de lazer registrados em 23 condados do leste do Texas, EUA. A pesquisa visava entender a demanda por viagens recreativas de barco ao Lago Somerville, além de coletar dados sobre características dos entrevistados e custos associados a visitas a outros lagos da região.\n",
    "\n",
    "O conjunto é frequentemente utilizado em análises econométricas de dados de contagem, como modelos de Poisson, binomial negativa, modelos zero-inflados e modelos hurdle.\n",
    "\n",
    "## Estrutura dos Dados\n",
    "\n",
    "* **Observações**: 659\n",
    "* **Variáveis**: 8\n",
    "\n",
    "## Descrição das Variáveis\n",
    "\n",
    "- **trips**: Número de viagens recreativas de barco realizadas ao Lago Somerville.\n",
    "- **quality**: Avaliação subjetiva da qualidade das instalações do lago, em uma escala de 1 a 5. Para indivíduos que não visitaram o lago, o valor é 0.\n",
    "- **ski**: Indica se o indivíduo praticou esqui aquático no lago (`sim` ou `não`).\n",
    "- **income**: Renda anual da família do entrevistado, em milhares de dólares americanos (USD).\n",
    "- **userfee**: Indica se o indivíduo pagou uma taxa anual de uso no Lago Somerville (`sim` ou `não`).\n",
    "- **costC**: Despesa estimada ao visitar o Lago Conroe, em dólares americanos (USD).\n",
    "- **costS**: Despesa estimada ao visitar o Lago Somerville, em dólares americanos (USD).\n",
    "- **costH**: Despesa estimada ao visitar o Lago Houston, em dólares americanos (USD).\n",
    "\n",
    "### Observações\n",
    "\n",
    "- A variável \"quality\" inclui o valor 0 para não visitantes, o que pode reduzir sua média, conforme explicado em Seller et al. (1985).\n"
   ]
  },
  {
   "cell_type": "code",
   "execution_count": 1,
   "id": "9eb41c4e",
   "metadata": {},
   "outputs": [],
   "source": [
    "import pandas as pd\n",
    "import numpy as np\n",
    "import matplotlib.pyplot as plt\n",
    "import seaborn as sns\n",
    "import statsmodels as sm"
   ]
  },
  {
   "cell_type": "markdown",
   "id": "e13dcfcd",
   "metadata": {},
   "source": [
    "## 1. Análise Exploratória dos Dados\n",
    "\n",
    "Vamos explorar o conjunto de dados `RecreationDemand`, verificando a estrutura, estatísticas descritivas e a relação entre as variáveis. O objetivo é identificar possíveis covariáveis e avaliar a adequação do modelo de Poisson.\n"
   ]
  },
  {
   "cell_type": "code",
   "execution_count": 2,
   "id": "495ef328",
   "metadata": {},
   "outputs": [
    {
     "data": {
      "text/html": [
       "<div>\n",
       "<style scoped>\n",
       "    .dataframe tbody tr th:only-of-type {\n",
       "        vertical-align: middle;\n",
       "    }\n",
       "\n",
       "    .dataframe tbody tr th {\n",
       "        vertical-align: top;\n",
       "    }\n",
       "\n",
       "    .dataframe thead th {\n",
       "        text-align: right;\n",
       "    }\n",
       "</style>\n",
       "<table border=\"1\" class=\"dataframe\">\n",
       "  <thead>\n",
       "    <tr style=\"text-align: right;\">\n",
       "      <th></th>\n",
       "      <th>trips</th>\n",
       "      <th>quality</th>\n",
       "      <th>ski</th>\n",
       "      <th>income</th>\n",
       "      <th>userfee</th>\n",
       "      <th>costC</th>\n",
       "      <th>costS</th>\n",
       "      <th>costH</th>\n",
       "    </tr>\n",
       "  </thead>\n",
       "  <tbody>\n",
       "    <tr>\n",
       "      <th>0</th>\n",
       "      <td>0</td>\n",
       "      <td>0</td>\n",
       "      <td>yes</td>\n",
       "      <td>4</td>\n",
       "      <td>no</td>\n",
       "      <td>67.59</td>\n",
       "      <td>68.620</td>\n",
       "      <td>76.800</td>\n",
       "    </tr>\n",
       "    <tr>\n",
       "      <th>1</th>\n",
       "      <td>0</td>\n",
       "      <td>0</td>\n",
       "      <td>no</td>\n",
       "      <td>9</td>\n",
       "      <td>no</td>\n",
       "      <td>68.86</td>\n",
       "      <td>70.936</td>\n",
       "      <td>84.780</td>\n",
       "    </tr>\n",
       "    <tr>\n",
       "      <th>2</th>\n",
       "      <td>0</td>\n",
       "      <td>0</td>\n",
       "      <td>yes</td>\n",
       "      <td>5</td>\n",
       "      <td>no</td>\n",
       "      <td>58.12</td>\n",
       "      <td>59.465</td>\n",
       "      <td>72.110</td>\n",
       "    </tr>\n",
       "    <tr>\n",
       "      <th>3</th>\n",
       "      <td>0</td>\n",
       "      <td>0</td>\n",
       "      <td>no</td>\n",
       "      <td>2</td>\n",
       "      <td>no</td>\n",
       "      <td>15.79</td>\n",
       "      <td>13.750</td>\n",
       "      <td>23.680</td>\n",
       "    </tr>\n",
       "    <tr>\n",
       "      <th>4</th>\n",
       "      <td>0</td>\n",
       "      <td>0</td>\n",
       "      <td>yes</td>\n",
       "      <td>3</td>\n",
       "      <td>no</td>\n",
       "      <td>24.02</td>\n",
       "      <td>34.033</td>\n",
       "      <td>34.547</td>\n",
       "    </tr>\n",
       "  </tbody>\n",
       "</table>\n",
       "</div>"
      ],
      "text/plain": [
       "   trips  quality  ski  income userfee  costC   costS   costH\n",
       "0      0        0  yes       4      no  67.59  68.620  76.800\n",
       "1      0        0   no       9      no  68.86  70.936  84.780\n",
       "2      0        0  yes       5      no  58.12  59.465  72.110\n",
       "3      0        0   no       2      no  15.79  13.750  23.680\n",
       "4      0        0  yes       3      no  24.02  34.033  34.547"
      ]
     },
     "execution_count": 2,
     "metadata": {},
     "output_type": "execute_result"
    }
   ],
   "source": [
    "data = pd.read_csv(\"./data/RecreationDemand.csv\")\n",
    "data.head()"
   ]
  },
  {
   "cell_type": "code",
   "execution_count": 3,
   "id": "b4608f81",
   "metadata": {},
   "outputs": [
    {
     "name": "stdout",
     "output_type": "stream",
     "text": [
      "<class 'pandas.core.frame.DataFrame'>\n",
      "RangeIndex: 659 entries, 0 to 658\n",
      "Data columns (total 8 columns):\n",
      " #   Column   Non-Null Count  Dtype  \n",
      "---  ------   --------------  -----  \n",
      " 0   trips    659 non-null    int64  \n",
      " 1   quality  659 non-null    int64  \n",
      " 2   ski      659 non-null    object \n",
      " 3   income   659 non-null    int64  \n",
      " 4   userfee  659 non-null    object \n",
      " 5   costC    659 non-null    float64\n",
      " 6   costS    659 non-null    float64\n",
      " 7   costH    659 non-null    float64\n",
      "dtypes: float64(3), int64(3), object(2)\n",
      "memory usage: 41.3+ KB\n"
     ]
    }
   ],
   "source": [
    "data.info()"
   ]
  },
  {
   "cell_type": "code",
   "execution_count": 4,
   "id": "dcf6f3c7",
   "metadata": {},
   "outputs": [
    {
     "data": {
      "text/html": [
       "<div>\n",
       "<style scoped>\n",
       "    .dataframe tbody tr th:only-of-type {\n",
       "        vertical-align: middle;\n",
       "    }\n",
       "\n",
       "    .dataframe tbody tr th {\n",
       "        vertical-align: top;\n",
       "    }\n",
       "\n",
       "    .dataframe thead th {\n",
       "        text-align: right;\n",
       "    }\n",
       "</style>\n",
       "<table border=\"1\" class=\"dataframe\">\n",
       "  <thead>\n",
       "    <tr style=\"text-align: right;\">\n",
       "      <th></th>\n",
       "      <th>trips</th>\n",
       "      <th>quality</th>\n",
       "      <th>income</th>\n",
       "      <th>costC</th>\n",
       "      <th>costS</th>\n",
       "      <th>costH</th>\n",
       "    </tr>\n",
       "  </thead>\n",
       "  <tbody>\n",
       "    <tr>\n",
       "      <th>count</th>\n",
       "      <td>659.000000</td>\n",
       "      <td>659.000000</td>\n",
       "      <td>659.000000</td>\n",
       "      <td>659.000000</td>\n",
       "      <td>659.000000</td>\n",
       "      <td>659.000000</td>\n",
       "    </tr>\n",
       "    <tr>\n",
       "      <th>mean</th>\n",
       "      <td>2.244310</td>\n",
       "      <td>1.418816</td>\n",
       "      <td>3.852807</td>\n",
       "      <td>55.423704</td>\n",
       "      <td>59.928053</td>\n",
       "      <td>55.990303</td>\n",
       "    </tr>\n",
       "    <tr>\n",
       "      <th>std</th>\n",
       "      <td>6.292475</td>\n",
       "      <td>1.811986</td>\n",
       "      <td>1.851937</td>\n",
       "      <td>46.682648</td>\n",
       "      <td>46.376676</td>\n",
       "      <td>46.133211</td>\n",
       "    </tr>\n",
       "    <tr>\n",
       "      <th>min</th>\n",
       "      <td>0.000000</td>\n",
       "      <td>0.000000</td>\n",
       "      <td>1.000000</td>\n",
       "      <td>4.340000</td>\n",
       "      <td>4.767000</td>\n",
       "      <td>5.700000</td>\n",
       "    </tr>\n",
       "    <tr>\n",
       "      <th>25%</th>\n",
       "      <td>0.000000</td>\n",
       "      <td>0.000000</td>\n",
       "      <td>3.000000</td>\n",
       "      <td>28.240000</td>\n",
       "      <td>33.312000</td>\n",
       "      <td>28.963500</td>\n",
       "    </tr>\n",
       "    <tr>\n",
       "      <th>50%</th>\n",
       "      <td>0.000000</td>\n",
       "      <td>0.000000</td>\n",
       "      <td>3.000000</td>\n",
       "      <td>41.190000</td>\n",
       "      <td>47.000000</td>\n",
       "      <td>42.380000</td>\n",
       "    </tr>\n",
       "    <tr>\n",
       "      <th>75%</th>\n",
       "      <td>2.000000</td>\n",
       "      <td>3.000000</td>\n",
       "      <td>5.000000</td>\n",
       "      <td>69.675000</td>\n",
       "      <td>72.573500</td>\n",
       "      <td>68.560000</td>\n",
       "    </tr>\n",
       "    <tr>\n",
       "      <th>max</th>\n",
       "      <td>88.000000</td>\n",
       "      <td>5.000000</td>\n",
       "      <td>9.000000</td>\n",
       "      <td>493.770000</td>\n",
       "      <td>491.547000</td>\n",
       "      <td>491.049000</td>\n",
       "    </tr>\n",
       "  </tbody>\n",
       "</table>\n",
       "</div>"
      ],
      "text/plain": [
       "            trips     quality      income       costC       costS       costH\n",
       "count  659.000000  659.000000  659.000000  659.000000  659.000000  659.000000\n",
       "mean     2.244310    1.418816    3.852807   55.423704   59.928053   55.990303\n",
       "std      6.292475    1.811986    1.851937   46.682648   46.376676   46.133211\n",
       "min      0.000000    0.000000    1.000000    4.340000    4.767000    5.700000\n",
       "25%      0.000000    0.000000    3.000000   28.240000   33.312000   28.963500\n",
       "50%      0.000000    0.000000    3.000000   41.190000   47.000000   42.380000\n",
       "75%      2.000000    3.000000    5.000000   69.675000   72.573500   68.560000\n",
       "max     88.000000    5.000000    9.000000  493.770000  491.547000  491.049000"
      ]
     },
     "execution_count": 4,
     "metadata": {},
     "output_type": "execute_result"
    }
   ],
   "source": [
    "data.describe()"
   ]
  },
  {
   "cell_type": "code",
   "execution_count": 5,
   "id": "3c4b268c",
   "metadata": {},
   "outputs": [
    {
     "data": {
      "text/plain": [
       "ski\n",
       "no     417\n",
       "yes    242\n",
       "Name: count, dtype: int64"
      ]
     },
     "execution_count": 5,
     "metadata": {},
     "output_type": "execute_result"
    }
   ],
   "source": [
    "data[\"ski\"].value_counts()"
   ]
  },
  {
   "cell_type": "code",
   "execution_count": 6,
   "id": "6a35576f",
   "metadata": {},
   "outputs": [
    {
     "data": {
      "text/plain": [
       "userfee\n",
       "no     646\n",
       "yes     13\n",
       "Name: count, dtype: int64"
      ]
     },
     "execution_count": 6,
     "metadata": {},
     "output_type": "execute_result"
    }
   ],
   "source": [
    "data[\"userfee\"].value_counts()"
   ]
  }
 ],
 "metadata": {
  "kernelspec": {
   "display_name": ".venv",
   "language": "python",
   "name": "python3"
  },
  "language_info": {
   "codemirror_mode": {
    "name": "ipython",
    "version": 3
   },
   "file_extension": ".py",
   "mimetype": "text/x-python",
   "name": "python",
   "nbconvert_exporter": "python",
   "pygments_lexer": "ipython3",
   "version": "3.11.12"
  }
 },
 "nbformat": 4,
 "nbformat_minor": 5
}
